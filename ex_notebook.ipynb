{
 "cells": [
  {
   "cell_type": "code",
   "execution_count": 121,
   "id": "1693d335",
   "metadata": {},
   "outputs": [],
   "source": [
    "from llama_hub.file.unstructured.base import UnstructuredReader\n",
    "from unstructured.partition.auto import partition\n",
    "from unstructured.documents.elements import NarrativeText, Title\n",
    "import llama_index as li\n",
    "from pathlib import Path\n",
    "import openai\n",
    "import os\n",
    "import pandas as pd\n",
    "import re\n",
    "import numpy as np\n",
    "import ast\n",
    "import random\n",
    "import json"
   ]
  },
  {
   "cell_type": "code",
   "execution_count": null,
   "id": "14328b90",
   "metadata": {},
   "outputs": [],
   "source": [
    "openai.api_key = 'your_key'\n",
    "os.environ['OPENAI_API_KEY'] = 'your_key'"
   ]
  },
  {
   "cell_type": "code",
   "execution_count": null,
   "id": "a9ebfa48",
   "metadata": {},
   "outputs": [],
   "source": [
    "#Path to textbook pdf\n",
    "pdf = Path(f'data/ex_textbook.pdf')"
   ]
  },
  {
   "cell_type": "code",
   "execution_count": 3,
   "id": "c9dbe079",
   "metadata": {},
   "outputs": [],
   "source": [
    "UnstructuredReader = li.download_loader(\"UnstructuredReader\", refresh_cache=True, use_gpt_index_import=True)"
   ]
  },
  {
   "cell_type": "code",
   "execution_count": null,
   "id": "222fb8d6",
   "metadata": {},
   "outputs": [],
   "source": [
    "loader = UnstructuredReader()"
   ]
  },
  {
   "cell_type": "code",
   "execution_count": 5,
   "id": "2621e301",
   "metadata": {},
   "outputs": [],
   "source": [
    "textbook = loader.load_data(file=pdf, split_documents=True)\n"
   ]
  },
  {
   "cell_type": "code",
   "execution_count": 6,
   "id": "e68b9fda",
   "metadata": {},
   "outputs": [],
   "source": [
    "elements = partition(filename=pdf)\n"
   ]
  },
  {
   "cell_type": "code",
   "execution_count": null,
   "id": "cae24c47",
   "metadata": {},
   "outputs": [],
   "source": [
    "#What you need to modify\n",
    "\n",
    "#Start of every chapter\n",
    "pattern1 = r\"(\\d+)\\s+Chapter\\s+(\\d+):\"\n",
    "#End of every chapter introduction\n",
    "pattern2 = r\"^\\d+[CE](?: [A-Z])+\"\n",
    "#End of last chapter\n",
    "end = \"Need to Know More?\""
   ]
  },
  {
   "cell_type": "code",
   "execution_count": null,
   "id": "cbcebb5e",
   "metadata": {},
   "outputs": [],
   "source": [
    "#To look for patterns\n",
    "for ele in elements:\n",
    "    if isinstance(ele, Title):\n",
    "        print(ele)"
   ]
  },
  {
   "cell_type": "code",
   "execution_count": 7,
   "id": "c4dfd1f9",
   "metadata": {},
   "outputs": [],
   "source": [
    "#Tracking where chapters start/end\n",
    "chapter_found = {}\n",
    "chapter_starts = []\n",
    "intros = []\n",
    "\n",
    "for iteration, element in enumerate(textbook):\n",
    "    match1 = re.search(pattern1, element.text)\n",
    "    match2 = re.search(pattern2, element.text)\n",
    "    if match1:\n",
    "        chapter_number = match1.group(2)\n",
    "        \n",
    "        if chapter_number not in chapter_found:\n",
    "            chapter_found[chapter_number] = True\n",
    "            chapter_starts.append(iteration)\n",
    "            intros.append(iteration)\n",
    "    if match2:\n",
    "        intros.append(iteration)"
   ]
  },
  {
   "cell_type": "code",
   "execution_count": 8,
   "id": "804be379",
   "metadata": {},
   "outputs": [],
   "source": [
    "#Finding where last chapter ends\n",
    "for x in textbook[chapter_starts[len(chapter_starts) - 1]:]:\n",
    "    if x.text == end:\n",
    "        chapter_starts.append(textbook.index(x))"
   ]
  },
  {
   "cell_type": "code",
   "execution_count": 9,
   "id": "e5e98465",
   "metadata": {},
   "outputs": [],
   "source": [
    "#Collecting chapter summaries for GPT prompts\n",
    "summaries = []\n",
    "iteration = 0\n",
    "for x in intros[::2]:\n",
    "    temp =''\n",
    "    for element in elements[x:intros[iteration+1]]:\n",
    "        temp = temp + textbook[elements.index(element)].text + '\\n'\n",
    "    summaries.append(temp)\n",
    "    iteration += 2"
   ]
  },
  {
   "cell_type": "code",
   "execution_count": 10,
   "id": "8d6c03df",
   "metadata": {},
   "outputs": [],
   "source": [
    "#Making dictionary with chapter as key and document objects as elements\n",
    "directory = {}\n",
    "chapter_num = 1\n",
    "for x in range(len(chapter_starts) - 1):\n",
    "    text = []\n",
    "    for element in elements[chapter_starts[x]:chapter_starts[x+1]]:\n",
    "        if isinstance(element, NarrativeText):\n",
    "            text.append(textbook[elements.index(element)])\n",
    "    directory['Chapter ' + str(chapter_num)] = text\n",
    "    chapter_num += 1"
   ]
  },
  {
   "cell_type": "code",
   "execution_count": 11,
   "id": "bf984819",
   "metadata": {},
   "outputs": [],
   "source": [
    "#Combining all the narrative text of each chapter into one string and adding \"This is Chapter 'x': \" to the beginning and \"This is the end of Chapter 'x'\" to the end\n",
    "final=[]\n",
    "for chapter in directory:\n",
    "    txt = ''\n",
    "    for text in directory[chapter]:\n",
    "        txt = txt + text.text\n",
    "    directory[chapter][0].text = txt\n",
    "    final.append(directory[chapter][0])\n",
    "    \n",
    "for iteration, text in enumerate(final):\n",
    "    final[iteration].text = \"This is Chapter \" + str(iteration + 1) + \":\\n\" + text.text  + \"\\nThis is the end of Chapter \" + str(iteration + 1)"
   ]
  },
  {
   "cell_type": "code",
   "execution_count": 12,
   "id": "154e6a0a",
   "metadata": {},
   "outputs": [],
   "source": [
    "node_parser = li.node_parser.SimpleNodeParser()"
   ]
  },
  {
   "cell_type": "code",
   "execution_count": 13,
   "id": "e1b62911",
   "metadata": {},
   "outputs": [],
   "source": [
    "nodes = node_parser.get_nodes_from_documents(final)"
   ]
  },
  {
   "cell_type": "code",
   "execution_count": 14,
   "id": "5e3437c5",
   "metadata": {},
   "outputs": [],
   "source": [
    "test_index = li.GPTVectorStoreIndex(nodes=nodes, chunk_size_limit=512)"
   ]
  },
  {
   "cell_type": "code",
   "execution_count": 15,
   "id": "70394030",
   "metadata": {},
   "outputs": [],
   "source": [
    "query_engine = test_index.as_query_engine()"
   ]
  },
  {
   "cell_type": "code",
   "execution_count": 106,
   "id": "c9dcc36b",
   "metadata": {},
   "outputs": [],
   "source": [
    "def create_questions(num_chapters):\n",
    "    form =\"\"\"[\n",
    "    {\n",
    "    \"question\": ,\n",
    "    \"choices\": ,\n",
    "    \"correct_answer_index\": ,\n",
    "    \"explanation\":\n",
    "    }\n",
    "    ]\n",
    "    \"\"\"\n",
    "    final = []\n",
    "    for chapter in range(num_chapters):\n",
    "        temp = []\n",
    "        chap_num = str(chapter + 1)\n",
    "        summary = query_engine.query(f\"\"\"Elaborate on these key topics of chapter {chap_num} in detail:\n",
    "        {summaries[chapter]}\n",
    "        \"\"\" )\n",
    "        temp.append(str(summary))\n",
    "        response = query_engine.query(f\"\"\"\n",
    "        CHAPTER {chap_num}:\n",
    "        {str(summary)}\n",
    "        Please generate SIX different multiple choice questions that covers all of the above information. Must be variety in the type of questions (scenario questions, definitions, comparison questions) and some must have multiple correct answers. Do NOT reference the text in the questions and explanations themselves. Do not repeat any questions. In the explanation, provide more insight and also the chapter that it comes from\n",
    "        Return the result in the following JSON format:\n",
    "\n",
    "\n",
    "        {form}\n",
    "        \"\"\")\n",
    "        temp.append(ast.literal_eval(str(response)))\n",
    "        final.append(temp)\n",
    "    return final"
   ]
  },
  {
   "cell_type": "code",
   "execution_count": 51,
   "id": "af430275",
   "metadata": {},
   "outputs": [
    {
     "name": "stdout",
     "output_type": "stream",
     "text": [
      "1C H A P T E R O N E\n",
      "Introduction to Networking\n",
      "Objectives\n",
      "2.3 Identify common physical network topologies\n",
      ". Star . Mesh . Bus . Ring . Point to point . Point to multipoint . Hybrid\n",
      "2.7 Explain common logical network topologies and their char-\n",
      "acteristics . Peer-to-peer . Client/server . VPN . VLAN\n",
      "What You Need to Know\n",
      ". Understand the differences between local area networks (LANs), wide area\n",
      "networks (WANs), and personal area networks (PANs).\n",
      ". Identify the characteristics between peer-to-peer and client/server network-\n",
      "ing.\n",
      ". Identify the characteristics of various network topologies.\n",
      "\n",
      "2C H A P T E R T W O\n",
      "Cabling, Connectors, and Ethernet Standards\n",
      "Objectives\n",
      "2.1 Categorize standard cable types and their properties\n",
      ". Types:\n",
      ".CAT3, CAT5, CAT5e, CAT6 .STP, UTP .Multimode fiber, single-mode fiber .Coaxial\n",
      ". RG-59 . RG-6\n",
      ".Serial .Plenum vs. Non-plenum\n",
      ". Properties:\n",
      ".Transmission speeds .Distance .Duplex .Noise immunity (security, EMI) .Frequency\n",
      "2.2\n",
      "Identify common connector types\n",
      ". RJ-11 . RJ-45 . BNC . SC . ST . LC . RS-232 . RG-59 . RG-6\n",
      "\n",
      "3C H A P T E R T H R E E\n",
      "Networking Components and Devices\n",
      "Objectives\n",
      "3.1\n",
      "Install, configure and differentiate between common network devices\n",
      ". Hub . Repeater . Modem . NIC . Media converters . Basic switch . Bridge . Wireless access point . Basic router . Basic firewall . Basic DHCP server\n",
      "Idenntify the functions of specialized network devices\n",
      "3.2\n",
      ". Multilayer switch . Content switch . IDS/IPS . Load balancer . Multifunction network devices . DNS server . Bandwidth shaper . Proxy server . CSU/DSU\n",
      "\n",
      "4C H A P T E R F O U R\n",
      "OSI Model and Network Protocols\n",
      "Objectives\n",
      "1.1\n",
      "Explain the function of common networking protocols\n",
      ". TCP . FTP . UDP . TCP/IP suite . DHCP . TFTP . DNS . HTTP(S) . ARP . SIP (VoIP) . RTP (VoIP) . SSH . POP3 . NTP . IMAP4 . Telnet . SMTP . SNMP2/3 . ICMP . IGMP . TLS\n",
      "\n",
      "5C H A P T E R F I V E\n",
      "TCP/IP Routing and Addressing\n",
      "Objectives\n",
      "1.2 Identify commonly used TCP and UDP default ports\n",
      ". TCP ports\n",
      ".FTP – 20, 21 .SSH – 22 .TELNET – 23 .SMTP – 25 .DNS – 53 .HTTP – 80 .POP3 – 110 .NTP – 123 .IMAP4 – 143 .HTTPS – 443\n",
      ". UDP ports .TFTP – 69 .DNS – 53 .BOOTP/DHCP – 67 .SNMP – 161\n",
      "1.3\n",
      "Identify the following address formats\n",
      ". IPv6 . IPv4 . MAC addressing\n",
      "\n",
      "6C H A P T E R S I X\n",
      "WAN Technologies and Internet Access\n",
      "Objectives\n",
      "2.5 Categorize WAN technology types and properties\n",
      ". Type:\n",
      ".Frame Relay .E1/T1 .ADSL .SDSL .VDSL .Cable modem .Satellite .E3/T3 .OC-x .Wireless .ATM .SONET .MPLS .ISDN BRI .ISDN PRI .POTS .PSTN . Properties:\n",
      ".Circuit switch .Packet switch .Speed .Transmission media .Distance\n",
      "\n",
      "7C H A P T E R S E V E N\n",
      "Wireless Networking\n",
      "Objectives\n",
      "1.7 Compare the characteristics of wireless communication standards\n",
      ". 802.11 a/b/g/n .Speeds .Distance .Channels .Frequency\n",
      ". Authentication and encryption\n",
      ".WPA .WEP .RADIUS .TKIP\n",
      "3.4\n",
      "Implement a basic wireless network\n",
      ". Install client . Access point placement . Install access point . Configure appropriate encryption . Configure channels and frequencies . Set ESSID and beacon . Verify installation\n",
      "What You Need To Know\n",
      ". Review the characteristics of the various network topologies, including\n",
      "their strengths and weaknesses.\n",
      ". Review the characteristics of 802.11 standards, including the information\n",
      "provided in all tables in this chapter.\n",
      ". Identify the components involved in wireless communications.\n",
      "\n",
      "8C H A P T E R E I G H T\n",
      "Network Performance Optimization\n",
      "Objectives\n",
      "4.5\n",
      "Explain different methods and rationales for network performance opti- mization . Methods: .QoS .Traffic shaping .Load balancing .High availability .Caching engines .Fault tolerance\n",
      ". Reasons:\n",
      ".Latency sensitivity .High bandwidth applications\n",
      ". VoIP . Video applications\n",
      ".Uptime\n",
      "5.1 Given a scenario, select the appropriate command line interface tool\n",
      "and interpret the ouutput to verify functionality\n",
      ". Traceroute . Ipconfig . Ifconfig . Ping . ARP ping . ARP . Nslookup\n",
      "\n",
      "9C H A P T E R N I N E\n",
      "Network Security\n",
      "Objectives\n",
      "6.1 Explain the function of hardware and software security devices\n",
      ".Network based firewall .Host based firewall .IDS .IPS .VPN concentrator\n",
      "6.2 Explain common features of a firewall .Application layer vs. network layer .Stateful vs. stateless .Scanning services .Content filtering .Signature identification .Zones\n",
      "6.3 Explain the methods of network access security\n",
      ".Filtering: .ACL .MAC filtering .IP filtering .Tunneling and encryption .SSL VPN .VPN .L2TP .PPTP .IPSEC .Remote access .RAS\n",
      "\n",
      "10C H A P T E R T E N\n",
      "Network Management Tools and Documentation\n",
      "Objectives\n",
      "4.2 Identify types of configuration management documentation\n",
      ".Wiring schematics .Physical and logical network diagrams .Baselines .Policies, procedures and configurations .Regulations\n",
      "4.3 Given a scenario, evaluate the network based on configuration man-\n",
      "agement documentation .Compare wiring schematics, physical and logical network diagrams, base- lines, policies and procedures, and configurations to network devices and infrastructure .Update wiring schematics, physical and logical network diagrams, config- urations and job logs as needed\n",
      "4.4 Conduct network monitoring to identify performance and connectivity\n",
      "issues using the following: .Network monitoring utilities (for example, packet sniffers, connectivity software, load testing, throughput testers) .System logs, history logs, event logs\n",
      "5.2 Explain the purpose of network scanners\n",
      ".Packet sniffers .Intrusion detection software .Intrusion prevention software .Port scanners\n",
      "5.3 Given a scenario, utilize the appropriate hardware tools\n",
      ".Cable testers .Protocol analyzer\n",
      "\n",
      "11E L E V E N\n",
      "Troubleshooting and Supporting the Network\n",
      "Objectives\n",
      "4.6 Given a scenario, implement the following network troubleshooting\n",
      "methodology\n",
      ". Information gathering—identify symptoms and problems . Identify the affected areas of the network . Determine if anything has changed . Establish the most probable cause . Determine if escalation is necessary . Create an action plan and solution identifying potential effects . Implement and test the solution . Identify the results and effects of the solution . Document the solution and the entire process\n",
      "4.7 Given a scenario, troubleshoot common connectivity issues and select\n",
      "an appropriate solution\n",
      ". Physical issues: .Cross talk .Near End crosstalk .Attenuation .Collisions .Shorts .Open impedance mismatch (echo) .Interference . Logical issues: .Port speed .Port duplex mismatch\n",
      "\n"
     ]
    }
   ],
   "source": [
    "#To see what GPT is elaborating on\n",
    "for x in summaries:\n",
    "    print(x)"
   ]
  },
  {
   "cell_type": "code",
   "execution_count": 107,
   "id": "2423fbd6",
   "metadata": {
    "scrolled": true
   },
   "outputs": [],
   "source": [
    "questions = create_questions(len(chapter_starts) - 1)"
   ]
  },
  {
   "cell_type": "code",
   "execution_count": 119,
   "id": "6f5c07a3",
   "metadata": {},
   "outputs": [],
   "source": [
    "test = []\n",
    "for chap in questions:\n",
    "    for question in chap[1]:\n",
    "        test.append(question)"
   ]
  },
  {
   "cell_type": "code",
   "execution_count": 122,
   "id": "ecdde294",
   "metadata": {},
   "outputs": [],
   "source": [
    "json_string = json.dumps(test, indent=4)\n",
    "\n",
    "# Write the JSON string to a file\n",
    "with open(\"questions.json\", \"w\") as json_file:\n",
    "    json_file.write(json_string)\n"
   ]
  },
  {
   "cell_type": "markdown",
   "id": "0f2caa05",
   "metadata": {},
   "source": [
    "## As a chat bot"
   ]
  },
  {
   "cell_type": "code",
   "execution_count": 124,
   "id": "4e7b5440",
   "metadata": {},
   "outputs": [
    {
     "name": "stdout",
     "output_type": "stream",
     "text": [
      "Querying with: What is a VLAN and how does it work?\n",
      "\n",
      "A VLAN (Virtual Local Area Network) is a group of connected computers that act as if they are on their own network segments, even though they might not be. VLANs allow for the creation of multiple broadcast domains on a single switch, which is the same as creating separate networks for each VLAN. VLANs offer increased security, performance, and simplified administration. VLAN membership can be determined by protocol, port, or MAC address. With protocol-based VLANs, computers are assigned to VLANs using the protocol that is in use and the Layer 3 address. With port-based VLANs, specific ports on a network switch are assigned to a VLAN. With MAC address-based VLANs, the Media Access Control (MAC) address is used to assign membership to a VLAN. VLAN segmentation provides a new level of administrative flexibility, organization, and security.\n"
     ]
    }
   ],
   "source": [
    "chat_engine = test_index.as_chat_engine(verbose=True)\n",
    "response = chat_engine.chat(\"Tell me about VLANs\")\n",
    "print(str(response))"
   ]
  },
  {
   "cell_type": "code",
   "execution_count": 125,
   "id": "f5b51109",
   "metadata": {},
   "outputs": [
    {
     "name": "stdout",
     "output_type": "stream",
     "text": [
      "Querying with: Can you explain how the Media Access Control (MAC) address is used to assign membership to a VLAN?\n",
      "\n",
      "The MAC address is used to assign membership to a VLAN by keeping track of the MAC addresses that belong to each VLAN. The MAC address is a unique 12-digit hexadecimal number that is stamped into every network interface card. Every device that will be used on a network has this unique address built into it and it cannot be modified in any way. This allows a workstation computer to be moved anywhere in an office without needing to be reconfigured, as the MAC address does not change and the workstation remains a member of a particular VLAN.\n"
     ]
    }
   ],
   "source": [
    "print(str(chat_engine.chat(\"So like you just mentioned, the MAC address strips people of their membership to a VLAn\")))"
   ]
  },
  {
   "cell_type": "code",
   "execution_count": 126,
   "id": "81a20964",
   "metadata": {},
   "outputs": [
    {
     "name": "stdout",
     "output_type": "stream",
     "text": [
      "Querying with: What are some other applications of using a MAC address to assign membership to a VLAN?\n",
      "\n",
      "Other applications of using a MAC address to assign membership to a VLAN include:\n",
      "\n",
      "1. Allowing a workstation to be moved anywhere in an office without needing to be reconfigured.\n",
      "2. Isolating certain network segments from others for increased security.\n",
      "3. Allowing for easier administration when moving users between LAN segments.\n",
      "4. Reducing broadcast storms and freeing up bandwidth.\n",
      "5. Simplifying the process of addressing new stations and reconfiguring hubs and routers.\n"
     ]
    }
   ],
   "source": [
    "print(str(chat_engine.chat(\"Can you tell me other applications?\")))"
   ]
  }
 ],
 "metadata": {
  "kernelspec": {
   "display_name": "Python 3 (ipykernel)",
   "language": "python",
   "name": "python3"
  },
  "language_info": {
   "codemirror_mode": {
    "name": "ipython",
    "version": 3
   },
   "file_extension": ".py",
   "mimetype": "text/x-python",
   "name": "python",
   "nbconvert_exporter": "python",
   "pygments_lexer": "ipython3",
   "version": "3.9.12"
  }
 },
 "nbformat": 4,
 "nbformat_minor": 5
}
